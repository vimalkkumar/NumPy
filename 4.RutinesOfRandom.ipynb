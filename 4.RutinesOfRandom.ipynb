{
 "cells": [
  {
   "cell_type": "code",
   "execution_count": 1,
   "metadata": {},
   "outputs": [],
   "source": [
    "import numpy as np\n"
   ]
  },
  {
   "cell_type": "code",
   "execution_count": 2,
   "metadata": {},
   "outputs": [
    {
     "name": "stdout",
     "output_type": "stream",
     "text": [
      "[0 1 5 1 4 4 7 6 3 4]\n"
     ]
    }
   ],
   "source": [
    "x = np.random.randint(low = 0, high = 9, size = 10)\n",
    "print(x)"
   ]
  },
  {
   "cell_type": "code",
   "execution_count": 3,
   "metadata": {},
   "outputs": [
    {
     "name": "stdout",
     "output_type": "stream",
     "text": [
      "[[0.08948005 0.41135521 0.64080131]\n",
      " [0.64136518 0.27738266 0.4903896 ]\n",
      " [0.3955362  0.85817323 0.07851076]]\n"
     ]
    }
   ],
   "source": [
    "x = np.random.rand(3, 3)\n",
    "print(x)"
   ]
  },
  {
   "cell_type": "code",
   "execution_count": 4,
   "metadata": {},
   "outputs": [
    {
     "name": "stdout",
     "output_type": "stream",
     "text": [
      "[[[[[0.33257738 0.89419062]\n",
      "    [0.54981186 0.45455702]]\n",
      "\n",
      "   [[0.98723832 0.58055471]\n",
      "    [0.01062309 0.79443849]]]\n",
      "\n",
      "\n",
      "  [[[0.1262875  0.27520426]\n",
      "    [0.27001373 0.68131742]]\n",
      "\n",
      "   [[0.91940533 0.64156331]\n",
      "    [0.22550494 0.2684363 ]]]]\n",
      "\n",
      "\n",
      "\n",
      " [[[[0.73976536 0.28975147]\n",
      "    [0.24716051 0.16085539]]\n",
      "\n",
      "   [[0.9377152  0.2050373 ]\n",
      "    [0.6956161  0.070695  ]]]\n",
      "\n",
      "\n",
      "  [[[0.49439186 0.00610398]\n",
      "    [0.14433113 0.22794225]]\n",
      "\n",
      "   [[0.93030259 0.83946544]\n",
      "    [0.88812634 0.64193697]]]]]\n"
     ]
    }
   ],
   "source": [
    "x = np.random.rand(2, 2, 2, 2, 2)\n",
    "print(x)"
   ]
  },
  {
   "cell_type": "code",
   "execution_count": null,
   "metadata": {},
   "outputs": [],
   "source": []
  }
 ],
 "metadata": {
  "kernelspec": {
   "display_name": "Python 3",
   "language": "python",
   "name": "python3"
  },
  "language_info": {
   "codemirror_mode": {
    "name": "ipython",
    "version": 3
   },
   "file_extension": ".py",
   "mimetype": "text/x-python",
   "name": "python",
   "nbconvert_exporter": "python",
   "pygments_lexer": "ipython3",
   "version": "3.6.8"
  }
 },
 "nbformat": 4,
 "nbformat_minor": 2
}
