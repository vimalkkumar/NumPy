{
 "cells": [
  {
   "cell_type": "code",
   "execution_count": 1,
   "metadata": {},
   "outputs": [],
   "source": [
    "import numpy as np"
   ]
  },
  {
   "cell_type": "code",
   "execution_count": 2,
   "metadata": {},
   "outputs": [
    {
     "name": "stdout",
     "output_type": "stream",
     "text": [
      "[0 1 2 3 4 5]\n"
     ]
    }
   ],
   "source": [
    "x = np.arange(6)\n",
    "print(x)"
   ]
  },
  {
   "cell_type": "code",
   "execution_count": 3,
   "metadata": {},
   "outputs": [
    {
     "name": "stdout",
     "output_type": "stream",
     "text": [
      "[[0 1]\n",
      " [2 3]\n",
      " [4 5]]\n"
     ]
    }
   ],
   "source": [
    "y  = x.reshape((3,2))\n",
    "print(y)"
   ]
  },
  {
   "cell_type": "code",
   "execution_count": 4,
   "metadata": {},
   "outputs": [
    {
     "name": "stdout",
     "output_type": "stream",
     "text": [
      "[[ 1  2  3  4  5]\n",
      " [ 6  7  8  9 10]]\n"
     ]
    }
   ],
   "source": [
    "x = np.array([[1,2,3,4,5], [6,7,8,9,10]], dtype = np.uint8)\n",
    "print(x)"
   ]
  },
  {
   "cell_type": "code",
   "execution_count": 6,
   "metadata": {},
   "outputs": [
    {
     "name": "stdout",
     "output_type": "stream",
     "text": [
      "[ 1  2  3  4  5  6  7  8  9 10]\n"
     ]
    }
   ],
   "source": [
    "y = np.reshape(x, 10)\n",
    "print(y)"
   ]
  },
  {
   "cell_type": "code",
   "execution_count": 7,
   "metadata": {},
   "outputs": [
    {
     "name": "stdout",
     "output_type": "stream",
     "text": [
      "[[ 1  2  3  4  5]\n",
      " [ 6  7  8  9 10]]\n"
     ]
    }
   ],
   "source": [
    "print(x)"
   ]
  },
  {
   "cell_type": "code",
   "execution_count": 8,
   "metadata": {},
   "outputs": [
    {
     "name": "stdout",
     "output_type": "stream",
     "text": [
      "[ 1  2  3  4  5  6  7  8  9 10]\n"
     ]
    }
   ],
   "source": [
    "y = np.ravel(x)\n",
    "print(y)"
   ]
  },
  {
   "cell_type": "code",
   "execution_count": 10,
   "metadata": {},
   "outputs": [
    {
     "name": "stdout",
     "output_type": "stream",
     "text": [
      "[ 1  2  3  4  5  6  7  8  9 10]\n"
     ]
    }
   ],
   "source": [
    "y = x.flatten()\n",
    "print(y)"
   ]
  },
  {
   "cell_type": "code",
   "execution_count": 11,
   "metadata": {},
   "outputs": [
    {
     "name": "stdout",
     "output_type": "stream",
     "text": [
      "[ 1  6  2  7  3  8  4  9  5 10]\n"
     ]
    }
   ],
   "source": [
    "y = x.flatten('F')\n",
    "print(y)"
   ]
  },
  {
   "cell_type": "code",
   "execution_count": 12,
   "metadata": {},
   "outputs": [
    {
     "name": "stdout",
     "output_type": "stream",
     "text": [
      "[ 1  2  3  4  5  6  7  8  9 10]\n"
     ]
    }
   ],
   "source": [
    "y = x.flatten('C')\n",
    "print(y)"
   ]
  },
  {
   "cell_type": "code",
   "execution_count": 14,
   "metadata": {},
   "outputs": [
    {
     "name": "stdout",
     "output_type": "stream",
     "text": [
      "[[ 1  2  3  4  5]\n",
      " [ 6  7  8  9 10]]\n"
     ]
    }
   ],
   "source": [
    "a = np.array([1,2,3,4,5], dtype = np.uint8)\n",
    "b = np.array([6,7,8,9,10], dtype = np.uint8)\n",
    "\n",
    "c = np.stack((a,b))\n",
    "print(c)"
   ]
  },
  {
   "cell_type": "code",
   "execution_count": 15,
   "metadata": {},
   "outputs": [
    {
     "name": "stdout",
     "output_type": "stream",
     "text": [
      "[[ 1  2  3  4  5]\n",
      " [ 6  7  8  9 10]]\n"
     ]
    }
   ],
   "source": [
    "c = np.stack((a,b), axis = 0)\n",
    "print(c)"
   ]
  },
  {
   "cell_type": "code",
   "execution_count": 16,
   "metadata": {},
   "outputs": [
    {
     "name": "stdout",
     "output_type": "stream",
     "text": [
      "[[ 1  6]\n",
      " [ 2  7]\n",
      " [ 3  8]\n",
      " [ 4  9]\n",
      " [ 5 10]]\n"
     ]
    }
   ],
   "source": [
    "c = np.stack((a,b), axis = 1)\n",
    "print(c)"
   ]
  },
  {
   "cell_type": "code",
   "execution_count": 17,
   "metadata": {},
   "outputs": [
    {
     "name": "stdout",
     "output_type": "stream",
     "text": [
      "[[ 1  6]\n",
      " [ 2  7]\n",
      " [ 3  8]\n",
      " [ 4  9]\n",
      " [ 5 10]]\n"
     ]
    }
   ],
   "source": [
    "c = np.stack((a,b), axis = -1)\n",
    "print(c)"
   ]
  },
  {
   "cell_type": "code",
   "execution_count": 19,
   "metadata": {},
   "outputs": [
    {
     "name": "stdout",
     "output_type": "stream",
     "text": [
      "[[[ 1  6]\n",
      "  [ 2  7]\n",
      "  [ 3  8]\n",
      "  [ 4  9]\n",
      "  [ 5 10]]]\n"
     ]
    }
   ],
   "source": [
    "c = np.dstack((a,b))\n",
    "print(c)"
   ]
  },
  {
   "cell_type": "code",
   "execution_count": 20,
   "metadata": {},
   "outputs": [
    {
     "name": "stdout",
     "output_type": "stream",
     "text": [
      "[ 1  2  3  4  5  6  7  8  9 10]\n"
     ]
    }
   ],
   "source": [
    "c = np.hstack((a,b))\n",
    "print(c)"
   ]
  },
  {
   "cell_type": "code",
   "execution_count": 21,
   "metadata": {},
   "outputs": [
    {
     "name": "stdout",
     "output_type": "stream",
     "text": [
      "[[ 1  2  3  4  5]\n",
      " [ 6  7  8  9 10]]\n"
     ]
    }
   ],
   "source": [
    "c = np.vstack((a,b))\n",
    "print(c)"
   ]
  },
  {
   "cell_type": "code",
   "execution_count": 22,
   "metadata": {},
   "outputs": [
    {
     "name": "stdout",
     "output_type": "stream",
     "text": [
      "(2, 5)\n"
     ]
    }
   ],
   "source": [
    "print(c.shape)"
   ]
  },
  {
   "cell_type": "code",
   "execution_count": 23,
   "metadata": {},
   "outputs": [
    {
     "name": "stdout",
     "output_type": "stream",
     "text": [
      "[0 1 2 3 4 5 6 7 8]\n"
     ]
    }
   ],
   "source": [
    "x = np.arange(9)\n",
    "print(x)"
   ]
  },
  {
   "cell_type": "code",
   "execution_count": 24,
   "metadata": {},
   "outputs": [
    {
     "name": "stdout",
     "output_type": "stream",
     "text": [
      "[0 1 2] [3 4 5] [6 7 8]\n"
     ]
    }
   ],
   "source": [
    "a, b, c = np.split(x, 3)\n",
    "print(a,b,c)"
   ]
  },
  {
   "cell_type": "code",
   "execution_count": 25,
   "metadata": {},
   "outputs": [
    {
     "name": "stdout",
     "output_type": "stream",
     "text": [
      "[[[0.44605822 0.05710432 0.6903975  0.39174484]\n",
      "  [0.13032406 0.98944501 0.40109351 0.45046871]\n",
      "  [0.04074971 0.50788998 0.29368831 0.42745041]\n",
      "  [0.84474027 0.78004838 0.44920844 0.03712461]]\n",
      "\n",
      " [[0.12398559 0.5977537  0.68336064 0.86505385]\n",
      "  [0.0708991  0.19178895 0.16942915 0.3425129 ]\n",
      "  [0.7113639  0.51836892 0.16023732 0.97445236]\n",
      "  [0.17492761 0.30567887 0.45869867 0.30927496]]\n",
      "\n",
      " [[0.18369181 0.06190112 0.99953159 0.91031141]\n",
      "  [0.46757798 0.01348197 0.56440106 0.16268891]\n",
      "  [0.1135805  0.30725174 0.65161321 0.90323206]\n",
      "  [0.41452703 0.36074514 0.85694094 0.69238777]]\n",
      "\n",
      " [[0.05312461 0.94118063 0.78226748 0.24296422]\n",
      "  [0.20202016 0.17922522 0.68484641 0.21611511]\n",
      "  [0.88939615 0.6454579  0.30626088 0.40698572]\n",
      "  [0.54288771 0.98226325 0.38214022 0.36520111]]]\n"
     ]
    }
   ],
   "source": [
    "x = np.random.rand(4, 4, 4)\n",
    "print(x)"
   ]
  },
  {
   "cell_type": "code",
   "execution_count": 26,
   "metadata": {},
   "outputs": [
    {
     "name": "stdout",
     "output_type": "stream",
     "text": [
      "[[[0.44605822 0.05710432 0.6903975  0.39174484]\n",
      "  [0.13032406 0.98944501 0.40109351 0.45046871]\n",
      "  [0.04074971 0.50788998 0.29368831 0.42745041]\n",
      "  [0.84474027 0.78004838 0.44920844 0.03712461]]\n",
      "\n",
      " [[0.12398559 0.5977537  0.68336064 0.86505385]\n",
      "  [0.0708991  0.19178895 0.16942915 0.3425129 ]\n",
      "  [0.7113639  0.51836892 0.16023732 0.97445236]\n",
      "  [0.17492761 0.30567887 0.45869867 0.30927496]]] [[[0.18369181 0.06190112 0.99953159 0.91031141]\n",
      "  [0.46757798 0.01348197 0.56440106 0.16268891]\n",
      "  [0.1135805  0.30725174 0.65161321 0.90323206]\n",
      "  [0.41452703 0.36074514 0.85694094 0.69238777]]\n",
      "\n",
      " [[0.05312461 0.94118063 0.78226748 0.24296422]\n",
      "  [0.20202016 0.17922522 0.68484641 0.21611511]\n",
      "  [0.88939615 0.6454579  0.30626088 0.40698572]\n",
      "  [0.54288771 0.98226325 0.38214022 0.36520111]]]\n"
     ]
    }
   ],
   "source": [
    "y, z = np.split(x, 2)\n",
    "print(y, z)"
   ]
  },
  {
   "cell_type": "code",
   "execution_count": 27,
   "metadata": {},
   "outputs": [
    {
     "name": "stdout",
     "output_type": "stream",
     "text": [
      "[[[0.44605822 0.05710432]\n",
      "  [0.13032406 0.98944501]\n",
      "  [0.04074971 0.50788998]\n",
      "  [0.84474027 0.78004838]]\n",
      "\n",
      " [[0.12398559 0.5977537 ]\n",
      "  [0.0708991  0.19178895]\n",
      "  [0.7113639  0.51836892]\n",
      "  [0.17492761 0.30567887]]\n",
      "\n",
      " [[0.18369181 0.06190112]\n",
      "  [0.46757798 0.01348197]\n",
      "  [0.1135805  0.30725174]\n",
      "  [0.41452703 0.36074514]]\n",
      "\n",
      " [[0.05312461 0.94118063]\n",
      "  [0.20202016 0.17922522]\n",
      "  [0.88939615 0.6454579 ]\n",
      "  [0.54288771 0.98226325]]] [[[0.6903975  0.39174484]\n",
      "  [0.40109351 0.45046871]\n",
      "  [0.29368831 0.42745041]\n",
      "  [0.44920844 0.03712461]]\n",
      "\n",
      " [[0.68336064 0.86505385]\n",
      "  [0.16942915 0.3425129 ]\n",
      "  [0.16023732 0.97445236]\n",
      "  [0.45869867 0.30927496]]\n",
      "\n",
      " [[0.99953159 0.91031141]\n",
      "  [0.56440106 0.16268891]\n",
      "  [0.65161321 0.90323206]\n",
      "  [0.85694094 0.69238777]]\n",
      "\n",
      " [[0.78226748 0.24296422]\n",
      "  [0.68484641 0.21611511]\n",
      "  [0.30626088 0.40698572]\n",
      "  [0.38214022 0.36520111]]]\n"
     ]
    }
   ],
   "source": [
    "y, z = np.dsplit(x, 2)\n",
    "print(y,z)"
   ]
  },
  {
   "cell_type": "code",
   "execution_count": 29,
   "metadata": {},
   "outputs": [
    {
     "name": "stdout",
     "output_type": "stream",
     "text": [
      "[[[0.44605822 0.05710432 0.6903975  0.39174484]\n",
      "  [0.13032406 0.98944501 0.40109351 0.45046871]]\n",
      "\n",
      " [[0.12398559 0.5977537  0.68336064 0.86505385]\n",
      "  [0.0708991  0.19178895 0.16942915 0.3425129 ]]\n",
      "\n",
      " [[0.18369181 0.06190112 0.99953159 0.91031141]\n",
      "  [0.46757798 0.01348197 0.56440106 0.16268891]]\n",
      "\n",
      " [[0.05312461 0.94118063 0.78226748 0.24296422]\n",
      "  [0.20202016 0.17922522 0.68484641 0.21611511]]] [[[0.04074971 0.50788998 0.29368831 0.42745041]\n",
      "  [0.84474027 0.78004838 0.44920844 0.03712461]]\n",
      "\n",
      " [[0.7113639  0.51836892 0.16023732 0.97445236]\n",
      "  [0.17492761 0.30567887 0.45869867 0.30927496]]\n",
      "\n",
      " [[0.1135805  0.30725174 0.65161321 0.90323206]\n",
      "  [0.41452703 0.36074514 0.85694094 0.69238777]]\n",
      "\n",
      " [[0.88939615 0.6454579  0.30626088 0.40698572]\n",
      "  [0.54288771 0.98226325 0.38214022 0.36520111]]]\n"
     ]
    }
   ],
   "source": [
    "y, z = np.hsplit(x, 2)\n",
    "print(y, z)"
   ]
  },
  {
   "cell_type": "code",
   "execution_count": 30,
   "metadata": {},
   "outputs": [
    {
     "name": "stdout",
     "output_type": "stream",
     "text": [
      "[[[0.44605822 0.05710432 0.6903975  0.39174484]\n",
      "  [0.13032406 0.98944501 0.40109351 0.45046871]\n",
      "  [0.04074971 0.50788998 0.29368831 0.42745041]\n",
      "  [0.84474027 0.78004838 0.44920844 0.03712461]]\n",
      "\n",
      " [[0.12398559 0.5977537  0.68336064 0.86505385]\n",
      "  [0.0708991  0.19178895 0.16942915 0.3425129 ]\n",
      "  [0.7113639  0.51836892 0.16023732 0.97445236]\n",
      "  [0.17492761 0.30567887 0.45869867 0.30927496]]] [[[0.18369181 0.06190112 0.99953159 0.91031141]\n",
      "  [0.46757798 0.01348197 0.56440106 0.16268891]\n",
      "  [0.1135805  0.30725174 0.65161321 0.90323206]\n",
      "  [0.41452703 0.36074514 0.85694094 0.69238777]]\n",
      "\n",
      " [[0.05312461 0.94118063 0.78226748 0.24296422]\n",
      "  [0.20202016 0.17922522 0.68484641 0.21611511]\n",
      "  [0.88939615 0.6454579  0.30626088 0.40698572]\n",
      "  [0.54288771 0.98226325 0.38214022 0.36520111]]]\n"
     ]
    }
   ],
   "source": [
    "y, z = np.vsplit(x, 2)\n",
    "print(y, z)"
   ]
  },
  {
   "cell_type": "code",
   "execution_count": 32,
   "metadata": {},
   "outputs": [
    {
     "name": "stdout",
     "output_type": "stream",
     "text": [
      "[[ 0  1  2  3]\n",
      " [ 4  5  6  7]\n",
      " [ 8  9 10 11]\n",
      " [12 13 14 15]]\n"
     ]
    }
   ],
   "source": [
    "x = np.arange(16).reshape(4, 4)\n",
    "print(x)"
   ]
  },
  {
   "cell_type": "code",
   "execution_count": 33,
   "metadata": {},
   "outputs": [
    {
     "name": "stdout",
     "output_type": "stream",
     "text": [
      "[[12 13 14 15]\n",
      " [ 8  9 10 11]\n",
      " [ 4  5  6  7]\n",
      " [ 0  1  2  3]]\n"
     ]
    }
   ],
   "source": [
    "y = np.flip(x, axis = 0)\n",
    "print(y)"
   ]
  },
  {
   "cell_type": "code",
   "execution_count": 35,
   "metadata": {},
   "outputs": [
    {
     "name": "stdout",
     "output_type": "stream",
     "text": [
      "[[12 13 14 15]\n",
      " [ 8  9 10 11]\n",
      " [ 4  5  6  7]\n",
      " [ 0  1  2  3]]\n"
     ]
    }
   ],
   "source": [
    "y = np.flip(x, axis = -0)\n",
    "print(y)"
   ]
  },
  {
   "cell_type": "code",
   "execution_count": 36,
   "metadata": {},
   "outputs": [
    {
     "name": "stdout",
     "output_type": "stream",
     "text": [
      "[[ 3  2  1  0]\n",
      " [ 7  6  5  4]\n",
      " [11 10  9  8]\n",
      " [15 14 13 12]]\n"
     ]
    }
   ],
   "source": [
    "y = np.flip(x, axis = 1)\n",
    "print(y)"
   ]
  },
  {
   "cell_type": "code",
   "execution_count": 38,
   "metadata": {},
   "outputs": [
    {
     "name": "stdout",
     "output_type": "stream",
     "text": [
      "[[ 0  1  2  3]\n",
      " [ 4  5  6  7]\n",
      " [ 8  9 10 11]\n",
      " [12 13 14 15]]\n",
      "[[ 3  2  1  0]\n",
      " [ 7  6  5  4]\n",
      " [11 10  9  8]\n",
      " [15 14 13 12]]\n"
     ]
    }
   ],
   "source": [
    "y = np.flip(x, axis = -1)\n",
    "print(x)\n",
    "print(y)"
   ]
  },
  {
   "cell_type": "code",
   "execution_count": 40,
   "metadata": {},
   "outputs": [
    {
     "name": "stdout",
     "output_type": "stream",
     "text": [
      "[[ 0  1  2  3]\n",
      " [ 4  5  6  7]\n",
      " [ 8  9 10 11]\n",
      " [12 13 14 15]]\n",
      "[[ 3  2  1  0]\n",
      " [ 7  6  5  4]\n",
      " [11 10  9  8]\n",
      " [15 14 13 12]]\n"
     ]
    }
   ],
   "source": [
    "y = np.fliplr(x)\n",
    "print(x)\n",
    "print(y)"
   ]
  },
  {
   "cell_type": "code",
   "execution_count": 41,
   "metadata": {},
   "outputs": [
    {
     "name": "stdout",
     "output_type": "stream",
     "text": [
      "[[ 0  1  2  3]\n",
      " [ 4  5  6  7]\n",
      " [ 8  9 10 11]\n",
      " [12 13 14 15]]\n",
      "[[12 13 14 15]\n",
      " [ 8  9 10 11]\n",
      " [ 4  5  6  7]\n",
      " [ 0  1  2  3]]\n"
     ]
    }
   ],
   "source": [
    "y = np.flipud(x)\n",
    "print(x)\n",
    "print(y)"
   ]
  },
  {
   "cell_type": "code",
   "execution_count": 42,
   "metadata": {},
   "outputs": [
    {
     "name": "stdout",
     "output_type": "stream",
     "text": [
      "[[ 0  1  2  3]\n",
      " [ 4  5  6  7]\n",
      " [ 8  9 10 11]\n",
      " [12 13 14 15]]\n",
      "[[ 8  9 10 11]\n",
      " [12 13 14 15]\n",
      " [ 0  1  2  3]\n",
      " [ 4  5  6  7]]\n"
     ]
    }
   ],
   "source": [
    "y = np.roll(x, 8)\n",
    "print(x)\n",
    "print(y)"
   ]
  },
  {
   "cell_type": "code",
   "execution_count": 43,
   "metadata": {},
   "outputs": [
    {
     "name": "stdout",
     "output_type": "stream",
     "text": [
      "[[ 0  1  2  3]\n",
      " [ 4  5  6  7]\n",
      " [ 8  9 10 11]\n",
      " [12 13 14 15]]\n",
      "[[ 3  7 11 15]\n",
      " [ 2  6 10 14]\n",
      " [ 1  5  9 13]\n",
      " [ 0  4  8 12]]\n"
     ]
    }
   ],
   "source": [
    "y = np.rot90(x)\n",
    "print(x)\n",
    "print(y)"
   ]
  },
  {
   "cell_type": "code",
   "execution_count": null,
   "metadata": {},
   "outputs": [],
   "source": []
  }
 ],
 "metadata": {
  "kernelspec": {
   "display_name": "Python 3",
   "language": "python",
   "name": "python3"
  },
  "language_info": {
   "codemirror_mode": {
    "name": "ipython",
    "version": 3
   },
   "file_extension": ".py",
   "mimetype": "text/x-python",
   "name": "python",
   "nbconvert_exporter": "python",
   "pygments_lexer": "ipython3",
   "version": "3.6.8"
  }
 },
 "nbformat": 4,
 "nbformat_minor": 2
}
